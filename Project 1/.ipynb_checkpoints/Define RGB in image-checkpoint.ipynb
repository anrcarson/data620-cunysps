{
 "cells": [
  {
   "cell_type": "code",
   "execution_count": 1,
   "metadata": {},
   "outputs": [
    {
     "ename": "ModuleNotFoundError",
     "evalue": "No module named 'colorgram'",
     "output_type": "error",
     "traceback": [
      "\u001b[1;31m---------------------------------------------------------------------------\u001b[0m",
      "\u001b[1;31mModuleNotFoundError\u001b[0m                       Traceback (most recent call last)",
      "\u001b[1;32m<ipython-input-1-789ae1d979e6>\u001b[0m in \u001b[0;36m<module>\u001b[1;34m()\u001b[0m\n\u001b[0;32m      2\u001b[0m \u001b[1;32mimport\u001b[0m \u001b[0mpandas\u001b[0m \u001b[1;32mas\u001b[0m \u001b[0mpd\u001b[0m\u001b[1;33m\u001b[0m\u001b[0m\n\u001b[0;32m      3\u001b[0m \u001b[1;32mimport\u001b[0m \u001b[0mmatplotlib\u001b[0m \u001b[1;32mas\u001b[0m \u001b[0mplt\u001b[0m\u001b[1;33m\u001b[0m\u001b[0m\n\u001b[1;32m----> 4\u001b[1;33m \u001b[1;32mimport\u001b[0m \u001b[0mcolorgram\u001b[0m\u001b[1;33m\u001b[0m\u001b[0m\n\u001b[0m\u001b[0;32m      5\u001b[0m \u001b[1;32mimport\u001b[0m \u001b[0mnumpy\u001b[0m \u001b[1;32mas\u001b[0m \u001b[0mnp\u001b[0m\u001b[1;33m\u001b[0m\u001b[0m\n\u001b[0;32m      6\u001b[0m \u001b[1;32mfrom\u001b[0m \u001b[0mPIL\u001b[0m \u001b[1;32mimport\u001b[0m \u001b[0mImage\u001b[0m\u001b[1;33m,\u001b[0m \u001b[0mImageFont\u001b[0m\u001b[1;33m,\u001b[0m \u001b[0mImageDraw\u001b[0m\u001b[1;33m\u001b[0m\u001b[0m\n",
      "\u001b[1;31mModuleNotFoundError\u001b[0m: No module named 'colorgram'"
     ]
    }
   ],
   "source": [
    "import networkx as nx\n",
    "import pandas as pd\n",
    "import matplotlib as plt\n",
    "import colorgram\n",
    "import numpy as np\n",
    "from PIL import Image, ImageFont, ImageDraw\n",
    "import matplotlib.pyplot as plt\n",
    "import re\n",
    "from base64 import b16encode\n",
    "import requests\n",
    "from io import BytesIO\n",
    "import urllib.request\n",
    "import warnings\n",
    "warnings.simplefilter(action='ignore', category=FutureWarning)"
   ]
  },
  {
   "cell_type": "code",
   "execution_count": null,
   "metadata": {},
   "outputs": [],
   "source": [
    "#Created a CSV with some other logos\n",
    "col_names = ['logo_path','team']\n",
    "Logos = pd.read_csv('https://raw.githubusercontent.com/PLombardo811/620/Project-1/Logos_csv.csv')"
   ]
  },
  {
   "cell_type": "code",
   "execution_count": null,
   "metadata": {},
   "outputs": [],
   "source": [
    "logo_path = Logos.logo_path\n",
    "\n",
    "team = Logos.team\n",
    "league = Logos.league"
   ]
  },
  {
   "cell_type": "code",
   "execution_count": null,
   "metadata": {},
   "outputs": [],
   "source": [
    "URLs = []\n",
    "for i in logo_path:\n",
    "    URL = urllib.request.urlopen(i)\n",
    "    URLs.append(URL)"
   ]
  },
  {
   "cell_type": "code",
   "execution_count": null,
   "metadata": {},
   "outputs": [],
   "source": [
    "colors = []\n",
    "for i in URLs:\n",
    "  colors.append(colorgram.extract(i,6))"
   ]
  },
  {
   "cell_type": "code",
   "execution_count": null,
   "metadata": {},
   "outputs": [],
   "source": [
    "def GetMyColors(color):\n",
    "   color_return = []\n",
    "   for each_color in color[:3]:\n",
    "       color_string = str(each_color.rgb)\n",
    "       color_int = (re.findall(r'\\d+', color_string))\n",
    "       color_return.append(color_int)\n",
    "   return(color_return)"
   ]
  },
  {
   "cell_type": "code",
   "execution_count": null,
   "metadata": {},
   "outputs": [],
   "source": [
    "team_colors = {}\n",
    "for i in list(range(len(team))):\n",
    "    team_colors[team[i]] = GetMyColors(colors[i])"
   ]
  },
  {
   "cell_type": "code",
   "execution_count": null,
   "metadata": {},
   "outputs": [],
   "source": [
    "RGBList = []\n",
    "for i in colors:\n",
    "   RGBList.append(GetMyColors(i))"
   ]
  },
  {
   "cell_type": "code",
   "execution_count": null,
   "metadata": {},
   "outputs": [],
   "source": [
    "df = pd.DataFrame(list(RGBList),columns=[\"Color_1\", \"Color_2\", \"Color_3\"]) \n",
    "df.set_value(25, \"Color_3\", [0,0,0])"
   ]
  },
  {
   "cell_type": "code",
   "execution_count": null,
   "metadata": {},
   "outputs": [],
   "source": [
    "Color_1  = [list(map(int, x)) for x in df.Color_1]\n",
    "Color_2  = [list(map(int, x)) for x in df.Color_2]\n",
    "Color_3  = [list(map(int, x)) for x in df.Color_3]"
   ]
  },
  {
   "cell_type": "code",
   "execution_count": null,
   "metadata": {},
   "outputs": [],
   "source": [
    "hexes = []\n",
    "\n",
    "def Hex(rgbcolor):\n",
    "    hex_return = []\n",
    "    for each_color in rgbcolor:\n",
    "        hex_color = \"#\" + b16encode(bytes(i))\n",
    "        hex_return.append(hex_color)\n",
    "    return(hex_return)\n",
    "\n",
    "for each_color in [Color_1, Color_2, Color_3]:\n",
    "    hexes.append(Hex(each_color))"
   ]
  },
  {
   "cell_type": "code",
   "execution_count": null,
   "metadata": {
    "scrolled": false
   },
   "outputs": [],
   "source": [
    "for i in range(3):\n",
    "    df[\"hex_\"+str(i)] = hexes[i]\n",
    "df['league'] = league\n",
    "df['team'] = team_colors\n",
    "df"
   ]
  },
  {
   "cell_type": "code",
   "execution_count": null,
   "metadata": {},
   "outputs": [],
   "source": [
    "df[\"edges\"] = df.apply(lambda x: (x[\"team\"], x[\"hex_1\"], x[\"hex_2\"]), axis=1)"
   ]
  },
  {
   "cell_type": "code",
   "execution_count": null,
   "metadata": {},
   "outputs": [],
   "source": [
    "G = nx.Graph()\n",
    "G.add_edges_from(df[\"edges\"].tolist())\n",
    "G.add_nodes_from(df[\"team\"].tolist()+df[\"hex_1\"].tolist() + df[\"hex_2\"].tolist())\n",
    "nx.draw(G)"
   ]
  },
  {
   "cell_type": "code",
   "execution_count": null,
   "metadata": {},
   "outputs": [],
   "source": [
    "pos = nx.spring_layout(G,k=1.55,iterations=80)\n",
    "plt.figure(figsize=(20,20))\n",
    "nx.draw_networkx_labels(G, pos, font_color='Blue')\n",
    "nx.draw_networkx_edges(G, pos, edge_color=\"Gray\", alpha=0.3)\n",
    "nx.draw_networkx_nodes(G, pos)\n",
    "plt.axis('off')\n",
    "plt.show()"
   ]
  }
 ],
 "metadata": {
  "kernelspec": {
   "display_name": "Python 3",
   "language": "python",
   "name": "python3"
  },
  "language_info": {
   "codemirror_mode": {
    "name": "ipython",
    "version": 3
   },
   "file_extension": ".py",
   "mimetype": "text/x-python",
   "name": "python",
   "nbconvert_exporter": "python",
   "pygments_lexer": "ipython3",
   "version": "3.6.5"
  }
 },
 "nbformat": 4,
 "nbformat_minor": 2
}
