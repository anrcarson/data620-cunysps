{
 "cells": [
  {
   "cell_type": "code",
   "execution_count": 1,
   "metadata": {},
   "outputs": [],
   "source": [
    "import nltk\n",
    "from nltk.corpus import names\n",
    "import random\n",
    "from nltk.classify import apply_features\n",
    "\n",
    "#get data\n",
    "names = ([(name, 'male') for name in names.words('male.txt')] +\n",
    "[(name, 'female') for name in names.words('female.txt')])\n",
    "random.shuffle(names)"
   ]
  },
  {
   "cell_type": "code",
   "execution_count": 2,
   "metadata": {},
   "outputs": [],
   "source": [
    "def gender_features(word):\n",
    "    return {'last_letter': word[-1]}"
   ]
  },
  {
   "cell_type": "code",
   "execution_count": 3,
   "metadata": {},
   "outputs": [],
   "source": [
    "def gender_features2(name):\n",
    "    features = {}\n",
    "    features[\"firstletter\"] = name[0].lower() #came with code; A\n",
    "    features[\"lastletter\"] = name[-1].lower() #came with code; B\n",
    "    features[\"prefix\"] = name[:3].lower() if len(name) > 4 else name[:2].lower() #gabby made; C\n",
    "    features[\"suffix\"] = name[-3:].lower() if len(name) > 4 else name[-2:].lower()#gabby made; D\n",
    "    #features[\"final_consonants\"] = name[-2:].lower() if name[-1].lower() not in [\"a\", \"e\", \"i\", \"o\", \"u\"] and name[-2].lower() not in [\"a\", \"e\", \"i\", \"o\", \"u\"] else False #gabby made; E\n",
    "    features[\"final_vowels\"] = name[-2:].lower() if name[-1].lower() in [\"a\", \"e\", \"i\", \"o\", \"u\"] and name[-2].lower() in [\"a\", \"e\", \"i\", \"o\", \"u\"] else False #gabby made; F\n",
    "    features[\"name_length\"] = len(name)\n",
    "    #features[\"femme_endings\"] = name[-4:].lower() if len(name) > 4 and name[-4].lower() in [\"a\", \"e\", \"i\", \"o\", \"u\"] and name[-3].lower() in [\"a\", \"e\", \"i\", \"o\", \"u\"] and name[-2].lower() == name[-3].lower() and name[-1].lower() in [\"a\", \"e\", \"i\", \"o\", \"u\", \"y\"] else False\n",
    "    #name_len = len(name)\n",
    "    #total_vowels = name.lower().count(\"a\") + name.lower().count(\"e\") + name.lower().count(\"i\") + name.lower().count(\"o\") + name.lower().count(\"u\")\n",
    "    #features[\"perc_consonants\"] = int((name_len-total_vowels)/name_len)\n",
    "    #features[\"perc_vowels\"] = int(total_vowels/name_len)\n",
    "    ### with the seven above, 0.829\n",
    "    for letter in 'abcdefghijklmnopqrstuvwxyz':\n",
    "        features[\"count(%s)\" % letter] = name.lower().count(letter)\n",
    "        features[\"has(%s)\" % letter] = (letter in name.lower())\n",
    "    return features"
   ]
  },
  {
   "cell_type": "code",
   "execution_count": 4,
   "metadata": {},
   "outputs": [],
   "source": [
    "featuresets = [(gender_features2(n), g) for (n,g) in names]\n",
    "train_set, test_set = featuresets[500:], featuresets[:500]\n",
    "classifier = nltk.NaiveBayesClassifier.train(train_set)"
   ]
  },
  {
   "cell_type": "code",
   "execution_count": 5,
   "metadata": {},
   "outputs": [
    {
     "name": "stdout",
     "output_type": "stream",
     "text": [
      "0.8619022031166039\n"
     ]
    }
   ],
   "source": [
    "print(nltk.classify.accuracy(classifier, train_set))"
   ]
  },
  {
   "cell_type": "code",
   "execution_count": 6,
   "metadata": {},
   "outputs": [
    {
     "name": "stdout",
     "output_type": "stream",
     "text": [
      "0.826\n"
     ]
    }
   ],
   "source": [
    "print(nltk.classify.accuracy(classifier, test_set))"
   ]
  },
  {
   "cell_type": "code",
   "execution_count": 7,
   "metadata": {},
   "outputs": [
    {
     "data": {
      "text/plain": [
       "'female'"
      ]
     },
     "execution_count": 7,
     "metadata": {},
     "output_type": "execute_result"
    }
   ],
   "source": [
    "classifier.classify(gender_features2(\"Abney\"))"
   ]
  },
  {
   "cell_type": "code",
   "execution_count": 8,
   "metadata": {},
   "outputs": [
    {
     "name": "stdout",
     "output_type": "stream",
     "text": [
      "Most Informative Features\n",
      "            final_vowels = 'ia'           female : male   =     39.5 : 1.0\n",
      "              lastletter = 'a'            female : male   =     34.6 : 1.0\n",
      "              lastletter = 'k'              male : female =     30.6 : 1.0\n",
      "                  suffix = 'tta'          female : male   =     25.8 : 1.0\n",
      "                  suffix = 'ard'            male : female =     25.3 : 1.0\n",
      "                  suffix = 'na'           female : male   =     18.6 : 1.0\n",
      "                  suffix = 'old'            male : female =     18.2 : 1.0\n",
      "                  suffix = 'nne'          female : male   =     18.1 : 1.0\n",
      "                  suffix = 'vin'            male : female =     17.2 : 1.0\n",
      "                  prefix = 'dor'          female : male   =     16.9 : 1.0\n",
      "            final_vowels = 'io'             male : female =     15.9 : 1.0\n",
      "              lastletter = 'f'              male : female =     15.9 : 1.0\n",
      "                  suffix = 'ita'          female : male   =     14.5 : 1.0\n",
      "                  suffix = 'dra'          female : male   =     13.9 : 1.0\n",
      "                  suffix = 'ene'          female : male   =     13.7 : 1.0\n",
      "                  suffix = 'son'            male : female =     12.3 : 1.0\n",
      "                  suffix = 'ria'          female : male   =     12.2 : 1.0\n",
      "                  prefix = 'wa'             male : female =     11.9 : 1.0\n",
      "                  prefix = 'tha'            male : female =     11.9 : 1.0\n",
      "                  suffix = 'lee'          female : male   =     11.4 : 1.0\n",
      "              lastletter = 'p'              male : female =     11.1 : 1.0\n",
      "              lastletter = 'v'              male : female =     11.1 : 1.0\n",
      "                  suffix = 'on'             male : female =     10.9 : 1.0\n",
      "                  suffix = 'nni'          female : male   =     10.9 : 1.0\n",
      "                  prefix = 'kar'          female : male   =     10.4 : 1.0\n",
      "                  suffix = 'ter'            male : female =      9.9 : 1.0\n",
      "              lastletter = 'd'              male : female =      9.7 : 1.0\n",
      "                  prefix = 'rod'            male : female =      9.7 : 1.0\n",
      "                  suffix = 'la'           female : male   =      9.6 : 1.0\n",
      "              lastletter = 'm'              male : female =      9.5 : 1.0\n",
      "                  prefix = 'lyn'          female : male   =      9.2 : 1.0\n",
      "                  suffix = 'cia'          female : male   =      9.2 : 1.0\n",
      "                  prefix = 'mel'          female : male   =      9.1 : 1.0\n",
      "            final_vowels = 'ea'           female : male   =      9.1 : 1.0\n",
      "                  suffix = 'dor'            male : female =      8.8 : 1.0\n",
      "                  suffix = 'ler'            male : female =      8.8 : 1.0\n",
      "                  suffix = 'ias'            male : female =      8.8 : 1.0\n",
      "                  suffix = 'den'            male : female =      8.8 : 1.0\n",
      "                  prefix = 'god'            male : female =      8.8 : 1.0\n",
      "                  prefix = 'pa'             male : female =      8.8 : 1.0\n",
      "                  prefix = 'gar'            male : female =      8.7 : 1.0\n",
      "              lastletter = 'o'              male : female =      8.7 : 1.0\n",
      "                  suffix = 'lle'          female : male   =      8.5 : 1.0\n",
      "                count(v) = 2              female : male   =      8.5 : 1.0\n",
      "                  prefix = 'mal'          female : male   =      8.3 : 1.0\n",
      "                  prefix = 'jan'          female : male   =      8.3 : 1.0\n",
      "                  suffix = 'lli'          female : male   =      8.3 : 1.0\n",
      "                  suffix = 'ale'            male : female =      7.8 : 1.0\n",
      "                  suffix = 'und'            male : female =      7.8 : 1.0\n",
      "                  suffix = 'uel'            male : female =      7.8 : 1.0\n"
     ]
    }
   ],
   "source": [
    "classifier.show_most_informative_features(50)"
   ]
  },
  {
   "cell_type": "code",
   "execution_count": 9,
   "metadata": {},
   "outputs": [],
   "source": [
    "train_names = names[1500:]\n",
    "devtest_names = names[500:1500]\n",
    "test_names = names[:500]"
   ]
  },
  {
   "cell_type": "code",
   "execution_count": 10,
   "metadata": {},
   "outputs": [
    {
     "name": "stdout",
     "output_type": "stream",
     "text": [
      "0.823\n"
     ]
    }
   ],
   "source": [
    "train_set = [(gender_features2(n), g) for (n,g) in train_names]\n",
    "devtest_set = [(gender_features2(n), g) for (n,g) in devtest_names]\n",
    "test_set = [(gender_features2(n), g) for (n,g) in test_names]\n",
    "classifier = nltk.NaiveBayesClassifier.train(train_set)\n",
    "print(nltk.classify.accuracy(classifier, devtest_set))"
   ]
  },
  {
   "cell_type": "code",
   "execution_count": 11,
   "metadata": {},
   "outputs": [],
   "source": [
    "errors = []\n",
    "for (name, tag) in devtest_names:\n",
    "    guess = classifier.classify(gender_features2(name))\n",
    "    if guess != tag:\n",
    "        errors.append( (tag, guess, name) )"
   ]
  },
  {
   "cell_type": "code",
   "execution_count": 12,
   "metadata": {},
   "outputs": [
    {
     "name": "stdout",
     "output_type": "stream",
     "text": [
      "Total errors: 177\n",
      "correct=female   guess=male     name=Ambur                length=5       \n",
      "correct=female   guess=male     name=Aphrodite            length=9       \n",
      "correct=female   guess=male     name=Audy                 length=4       \n",
      "correct=female   guess=male     name=Bell                 length=4       \n",
      "correct=female   guess=male     name=Berty                length=5       \n",
      "correct=female   guess=male     name=Blake                length=5       \n",
      "correct=female   guess=male     name=Bonny                length=5       \n",
      "correct=female   guess=male     name=Brandais             length=8       \n",
      "correct=female   guess=male     name=Buffy                length=5       \n",
      "correct=female   guess=male     name=Cameo                length=5       \n",
      "correct=female   guess=male     name=Charis               length=6       \n",
      "correct=female   guess=male     name=Cherish              length=7       \n",
      "correct=female   guess=male     name=Chery                length=5       \n",
      "correct=female   guess=male     name=Clo                  length=3       \n",
      "correct=female   guess=male     name=Consuelo             length=8       \n",
      "correct=female   guess=male     name=Cordy                length=5       \n",
      "correct=female   guess=male     name=Courtenay            length=9       \n",
      "correct=female   guess=male     name=Daloris              length=7       \n",
      "correct=female   guess=male     name=Dawn                 length=4       \n",
      "correct=female   guess=male     name=Deb                  length=3       \n",
      "correct=female   guess=male     name=Del                  length=3       \n",
      "correct=female   guess=male     name=Denys                length=5       \n",
      "correct=female   guess=male     name=Dione                length=5       \n",
      "correct=female   guess=male     name=Doe                  length=3       \n",
      "correct=female   guess=male     name=Donny                length=5       \n",
      "correct=female   guess=male     name=Drew                 length=4       \n",
      "correct=female   guess=male     name=Farrand              length=7       \n",
      "correct=female   guess=male     name=Fawn                 length=4       \n",
      "correct=female   guess=male     name=Flor                 length=4       \n",
      "correct=female   guess=male     name=Flory                length=5       \n",
      "correct=female   guess=male     name=Frances              length=7       \n",
      "correct=female   guess=male     name=Francesmary          length=11      \n",
      "correct=female   guess=male     name=Fred                 length=4       \n",
      "correct=female   guess=male     name=Friederike           length=10      \n",
      "correct=female   guess=male     name=Gaynor               length=6       \n",
      "correct=female   guess=male     name=Gertrude             length=8       \n",
      "correct=female   guess=male     name=Gerty                length=5       \n",
      "correct=female   guess=male     name=Glyn                 length=4       \n",
      "correct=female   guess=male     name=Grace                length=5       \n",
      "correct=female   guess=male     name=Grethel              length=7       \n",
      "correct=female   guess=male     name=Gusty                length=5       \n",
      "correct=female   guess=male     name=Harmony              length=7       \n",
      "correct=female   guess=male     name=Hazel                length=5       \n",
      "correct=female   guess=male     name=Hedwig               length=6       \n",
      "correct=female   guess=male     name=Hetty                length=5       \n",
      "correct=female   guess=male     name=Honor                length=5       \n",
      "correct=female   guess=male     name=Ikey                 length=4       \n",
      "correct=female   guess=male     name=Ines                 length=4       \n",
      "correct=female   guess=male     name=Ivett                length=5       \n",
      "correct=female   guess=male     name=Ivy                  length=3       \n",
      "correct=female   guess=male     name=Jean                 length=4       \n",
      "correct=female   guess=male     name=Joyous               length=6       \n",
      "correct=female   guess=male     name=Judy                 length=4       \n",
      "correct=female   guess=male     name=Kevyn                length=5       \n",
      "correct=female   guess=male     name=Kirsten              length=7       \n",
      "correct=female   guess=male     name=Kristien             length=8       \n",
      "correct=female   guess=male     name=Kyrstin              length=7       \n",
      "correct=female   guess=male     name=Lesly                length=5       \n",
      "correct=female   guess=male     name=Liz                  length=3       \n",
      "correct=female   guess=male     name=Mab                  length=3       \n",
      "correct=female   guess=male     name=Manon                length=5       \n",
      "correct=female   guess=male     name=Maryjo               length=6       \n",
      "correct=female   guess=male     name=Max                  length=3       \n",
      "correct=female   guess=male     name=May                  length=3       \n",
      "correct=female   guess=male     name=Nichol               length=6       \n",
      "correct=female   guess=male     name=Noel                 length=4       \n",
      "correct=female   guess=male     name=Patience             length=8       \n",
      "correct=female   guess=male     name=Pauly                length=5       \n",
      "correct=female   guess=male     name=Persis               length=6       \n",
      "correct=female   guess=male     name=Polly                length=5       \n",
      "correct=female   guess=male     name=Raf                  length=3       \n",
      "correct=female   guess=male     name=Rivy                 length=4       \n",
      "correct=female   guess=male     name=Roby                 length=4       \n",
      "correct=female   guess=male     name=Roch                 length=4       \n",
      "correct=female   guess=male     name=Rosy                 length=4       \n",
      "correct=female   guess=male     name=Roz                  length=3       \n",
      "correct=female   guess=male     name=Sammy                length=5       \n",
      "correct=female   guess=male     name=Shoshie              length=7       \n",
      "correct=female   guess=male     name=Sioux                length=5       \n",
      "correct=female   guess=male     name=Sofie                length=5       \n",
      "correct=female   guess=male     name=Stormy               length=6       \n",
      "correct=female   guess=male     name=Sylvie               length=6       \n",
      "correct=female   guess=male     name=Tobe                 length=4       \n",
      "correct=female   guess=male     name=Tobey                length=5       \n",
      "correct=female   guess=male     name=Trish                length=5       \n",
      "correct=female   guess=male     name=Trixy                length=5       \n",
      "correct=female   guess=male     name=Waly                 length=4       \n",
      "correct=female   guess=male     name=Wandis               length=6       \n",
      "correct=female   guess=male     name=Winnie               length=6       \n",
      "correct=male     guess=female   name=Andre                length=5       \n",
      "correct=male     guess=female   name=Arie                 length=4       \n",
      "correct=male     guess=female   name=Ariel                length=5       \n",
      "correct=male     guess=female   name=Averil               length=6       \n",
      "correct=male     guess=female   name=Basil                length=5       \n",
      "correct=male     guess=female   name=Bela                 length=4       \n",
      "correct=male     guess=female   name=Benji                length=5       \n",
      "correct=male     guess=female   name=Bennie               length=6       \n",
      "correct=male     guess=female   name=Bernie               length=6       \n",
      "correct=male     guess=female   name=Bertie               length=6       \n",
      "correct=male     guess=female   name=Blare                length=5       \n",
      "correct=male     guess=female   name=Bryan                length=5       \n",
      "correct=male     guess=female   name=Caldwell             length=8       \n",
      "correct=male     guess=female   name=Carlie               length=6       \n",
      "correct=male     guess=female   name=Casey                length=5       \n",
      "correct=male     guess=female   name=Chanderjit           length=10      \n",
      "correct=male     guess=female   name=Chane                length=5       \n",
      "correct=male     guess=female   name=Charley              length=7       \n",
      "correct=male     guess=female   name=Chaunce              length=7       \n",
      "correct=male     guess=female   name=Chrissy              length=7       \n",
      "correct=male     guess=female   name=Claire               length=6       \n",
      "correct=male     guess=female   name=Clemens              length=7       \n",
      "correct=male     guess=female   name=Clemente             length=8       \n",
      "correct=male     guess=female   name=Clive                length=5       \n",
      "correct=male     guess=female   name=Constantine          length=11      \n",
      "correct=male     guess=female   name=Cyrille              length=7       \n",
      "correct=male     guess=female   name=Dale                 length=4       \n",
      "correct=male     guess=female   name=Dannie               length=6       \n",
      "correct=male     guess=female   name=Darian               length=6       \n",
      "correct=male     guess=female   name=Daryl                length=5       \n",
      "correct=male     guess=female   name=Dickie               length=6       \n",
      "correct=male     guess=female   name=Eben                 length=4       \n",
      "correct=male     guess=female   name=Eli                  length=3       \n",
      "correct=male     guess=female   name=Elias                length=5       \n",
      "correct=male     guess=female   name=Ernie                length=5       \n",
      "correct=male     guess=female   name=Esme                 length=4       \n",
      "correct=male     guess=female   name=Etienne              length=7       \n",
      "correct=male     guess=female   name=Evelyn               length=6       \n",
      "correct=male     guess=female   name=Finley               length=6       \n",
      "correct=male     guess=female   name=Freddie              length=7       \n",
      "correct=male     guess=female   name=Gamaliel             length=8       \n",
      "correct=male     guess=female   name=Glenn                length=5       \n",
      "correct=male     guess=female   name=Hillel               length=6       \n",
      "correct=male     guess=female   name=Ishmael              length=7       \n",
      "correct=male     guess=female   name=Jay                  length=3       \n",
      "correct=male     guess=female   name=Jessie               length=6       \n",
      "correct=male     guess=female   name=Jodie                length=5       \n",
      "correct=male     guess=female   name=Keith                length=5       \n",
      "correct=male     guess=female   name=Kelly                length=5       \n",
      "correct=male     guess=female   name=Lemmie               length=6       \n",
      "correct=male     guess=female   name=Levi                 length=4       \n",
      "correct=male     guess=female   name=Lindsay              length=7       \n",
      "correct=male     guess=female   name=Lionel               length=6       \n",
      "correct=male     guess=female   name=Lorne                length=5       \n",
      "correct=male     guess=female   name=Lyle                 length=4       \n",
      "correct=male     guess=female   name=Lynn                 length=4       \n",
      "correct=male     guess=female   name=Mel                  length=3       \n",
      "correct=male     guess=female   name=Merrel               length=6       \n",
      "correct=male     guess=female   name=Merril               length=6       \n",
      "correct=male     guess=female   name=Michael              length=7       \n",
      "correct=male     guess=female   name=Michail              length=7       \n",
      "correct=male     guess=female   name=Micheil              length=7       \n",
      "correct=male     guess=female   name=Moise                length=5       \n",
      "correct=male     guess=female   name=Nat                  length=3       \n",
      "correct=male     guess=female   name=Nathanial            length=9       \n",
      "correct=male     guess=female   name=Neale                length=5       \n",
      "correct=male     guess=female   name=Neel                 length=4       \n",
      "correct=male     guess=female   name=Neil                 length=4       \n",
      "correct=male     guess=female   name=Nigel                length=5       \n",
      "correct=male     guess=female   name=Nikolai              length=7       \n",
      "correct=male     guess=female   name=Normie               length=6       \n",
      "correct=male     guess=female   name=Pennie               length=6       \n",
      "correct=male     guess=female   name=Rabbi                length=5       \n",
      "correct=male     guess=female   name=Rabi                 length=4       \n",
      "correct=male     guess=female   name=Raphael              length=7       \n",
      "correct=male     guess=female   name=Reese                length=5       \n",
      "correct=male     guess=female   name=Samuele              length=7       \n",
      "correct=male     guess=female   name=Sayre                length=5       \n",
      "correct=male     guess=female   name=See                  length=3       \n",
      "correct=male     guess=female   name=Sidnee               length=6       \n",
      "correct=male     guess=female   name=Sinclare             length=8       \n",
      "correct=male     guess=female   name=Stanleigh            length=9       \n",
      "correct=male     guess=female   name=Tallie               length=6       \n",
      "correct=male     guess=female   name=Tammy                length=5       \n",
      "correct=male     guess=female   name=Vaclav               length=6       \n",
      "correct=male     guess=female   name=Virgie               length=6       \n",
      "correct=male     guess=female   name=Zacherie             length=8       \n",
      "correct=male     guess=female   name=Zebedee              length=7       \n"
     ]
    }
   ],
   "source": [
    "print(\"Total errors: %d\" % (len(errors)))\n",
    "for (tag, guess, name) in sorted(errors):\n",
    "    print('correct=%-8s guess=%-8s name=%-20s length=%-8s' % (tag, guess, name, len(name)))"
   ]
  },
  {
   "cell_type": "code",
   "execution_count": 13,
   "metadata": {},
   "outputs": [],
   "source": [
    "def syllables(word): # I was making this to try and find a better way to look at words without importing a new library... meh.\n",
    "    to_return = []\n",
    "    consonants = list(\"bcdfghjklmnpqrstvwxzy\")\n",
    "    vowels = list(\"aeiouy\")\n",
    "    current_word = word.lower()\n",
    "    while current_word != \"\":\n",
    "        if current_word[0] in vowels and current_word[0] != \"y\":\n",
    "            if current_word[1:3] == \"we\":\n",
    "                to_return.append(current_word[:3])\n",
    "                current_word = current_word[3:]\n",
    "            else:\n",
    "                if current_word[1] in consonants:\n",
    "                    to_return.append(current_word[:2])\n",
    "                    current_word = current_word[2:]\n",
    "                elif current_word[2] in consonants:\n",
    "                    to_return.append(current_word[:3])\n",
    "                    current_word = current_word[3:]\n",
    "        else:\n",
    "            vowel_index = None\n",
    "            for vowel in vowels:\n",
    "                if vowel in current_word[:5] and vowel_index == None:\n",
    "                    vowel_index = current_word.index(vowel)\n",
    "            if len(current_word)-1 != vowel_index:\n",
    "                if current_word[vowel_index+1] in vowels and current_word[vowel_index+1] != \"i\":\n",
    "                    vowel_index += 1\n",
    "                if current_word[vowel_index+1] == \"s\" and current_word[vowel_index+2] == \"t\":\n",
    "                    to_return.append(current_word[:vowel_index+3])\n",
    "                    current_word = current_word[vowel_index+3:]\n",
    "                elif current_word[vowel_index+1] == \"t\" and current_word[vowel_index+2] == \"h\":\n",
    "                    to_return.append(current_word[:vowel_index+3])\n",
    "                    current_word = current_word[vowel_index+3:]\n",
    "                else:\n",
    "                    to_return.append(current_word[:vowel_index+2])\n",
    "                    current_word = current_word[vowel_index+2:]\n",
    "            else:\n",
    "                to_return.append(current_word[:vowel_index+2])\n",
    "                current_word = current_word[vowel_index+2:]\n",
    "    return(to_return)"
   ]
  }
 ],
 "metadata": {
  "kernelspec": {
   "display_name": "Python 3",
   "language": "python",
   "name": "python3"
  },
  "language_info": {
   "codemirror_mode": {
    "name": "ipython",
    "version": 3
   },
   "file_extension": ".py",
   "mimetype": "text/x-python",
   "name": "python",
   "nbconvert_exporter": "python",
   "pygments_lexer": "ipython3",
   "version": "3.6.5"
  }
 },
 "nbformat": 4,
 "nbformat_minor": 2
}
