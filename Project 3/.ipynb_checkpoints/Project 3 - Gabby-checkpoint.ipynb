{
 "cells": [
  {
   "cell_type": "code",
   "execution_count": 1,
   "metadata": {},
   "outputs": [],
   "source": [
    "import nltk\n",
    "from nltk.corpus import names\n",
    "import random\n",
    "from nltk.classify import apply_features\n",
    "\n",
    "#get data\n",
    "names = ([(name, 'male') for name in names.words('male.txt')] +\n",
    "[(name, 'female') for name in names.words('female.txt')])\n",
    "random.shuffle(names)"
   ]
  },
  {
   "cell_type": "code",
   "execution_count": 2,
   "metadata": {},
   "outputs": [],
   "source": [
    "def gender_features(word):\n",
    "    return {'last_letter': word[-1]}"
   ]
  },
  {
   "cell_type": "code",
   "execution_count": 3,
   "metadata": {},
   "outputs": [],
   "source": [
    "def gender_features2(name):\n",
    "    features = {}\n",
    "    features[\"firstletter\"] = name[0].lower() #came with code; A\n",
    "    features[\"lastletter\"] = name[-1].lower() #came with code; B\n",
    "    features[\"prefix\"] = name[:3].lower() if len(name) > 4 else name[:2].lower() #gabby made; C\n",
    "    features[\"suffix\"] = name[-3:].lower() if len(name) > 4 else name[-2:].lower()#gabby made; D\n",
    "    #features[\"final_consonants\"] = name[-2:].lower() if name[-1].lower() not in [\"a\", \"e\", \"i\", \"o\", \"u\"] and name[-2].lower() not in [\"a\", \"e\", \"i\", \"o\", \"u\"] else False #gabby made; E\n",
    "    features[\"final_vowels\"] = name[-2:].lower() if name[-1].lower() in [\"a\", \"e\", \"i\", \"o\", \"u\"] and name[-2].lower() in [\"a\", \"e\", \"i\", \"o\", \"u\"] else False #gabby made; F\n",
    "    features[\"name_length\"] = len(name)\n",
    "    #features[\"femme_endings\"] = name[-4:].lower() if len(name) > 4 and name[-4].lower() in [\"a\", \"e\", \"i\", \"o\", \"u\"] and name[-3].lower() in [\"a\", \"e\", \"i\", \"o\", \"u\"] and name[-2].lower() == name[-3].lower() and name[-1].lower() in [\"a\", \"e\", \"i\", \"o\", \"u\", \"y\"] else False\n",
    "    #name_len = len(name)\n",
    "    #total_vowels = name.lower().count(\"a\") + name.lower().count(\"e\") + name.lower().count(\"i\") + name.lower().count(\"o\") + name.lower().count(\"u\")\n",
    "    #features[\"perc_consonants\"] = int((name_len-total_vowels)/name_len)\n",
    "    #features[\"perc_vowels\"] = int(total_vowels/name_len)\n",
    "    ### with the seven above, 0.829\n",
    "    for letter in 'abcdefghijklmnopqrstuvwxyz':\n",
    "        features[\"count(%s)\" % letter] = name.lower().count(letter)\n",
    "        features[\"has(%s)\" % letter] = (letter in name.lower())\n",
    "    return features"
   ]
  },
  {
   "cell_type": "code",
   "execution_count": 4,
   "metadata": {},
   "outputs": [],
   "source": [
    "featuresets = [(gender_features2(n), g) for (n,g) in names]\n",
    "train_set, test_set = featuresets[500:], featuresets[:500]\n",
    "classifier = nltk.NaiveBayesClassifier.train(train_set)"
   ]
  },
  {
   "cell_type": "code",
   "execution_count": 5,
   "metadata": {},
   "outputs": [
    {
     "name": "stdout",
     "output_type": "stream",
     "text": [
      "0.8637829124126813\n"
     ]
    }
   ],
   "source": [
    "print(nltk.classify.accuracy(classifier, train_set))"
   ]
  },
  {
   "cell_type": "code",
   "execution_count": 6,
   "metadata": {},
   "outputs": [
    {
     "name": "stdout",
     "output_type": "stream",
     "text": [
      "0.812\n"
     ]
    }
   ],
   "source": [
    "print(nltk.classify.accuracy(classifier, test_set))"
   ]
  },
  {
   "cell_type": "code",
   "execution_count": 18,
   "metadata": {},
   "outputs": [
    {
     "data": {
      "text/plain": [
       "'female'"
      ]
     },
     "execution_count": 18,
     "metadata": {},
     "output_type": "execute_result"
    }
   ],
   "source": [
    "classifier.classify(gender_features2(\"Abney\"))"
   ]
  },
  {
   "cell_type": "code",
   "execution_count": 8,
   "metadata": {},
   "outputs": [
    {
     "name": "stdout",
     "output_type": "stream",
     "text": [
      "Most Informative Features\n",
      "              lastletter = 'k'              male : female =     45.0 : 1.0\n",
      "            final_vowels = 'ia'           female : male   =     38.8 : 1.0\n",
      "              lastletter = 'a'            female : male   =     35.7 : 1.0\n",
      "            final_vowels = 'io'             male : female =     27.6 : 1.0\n",
      "                  suffix = 'tta'          female : male   =     24.1 : 1.0\n",
      "                  suffix = 'nne'          female : male   =     19.9 : 1.0\n",
      "                  suffix = 'na'           female : male   =     19.4 : 1.0\n",
      "                  suffix = 'ard'            male : female =     19.4 : 1.0\n",
      "                  suffix = 'old'            male : female =     18.2 : 1.0\n",
      "                  suffix = 'vin'            male : female =     18.2 : 1.0\n",
      "              lastletter = 'f'              male : female =     16.6 : 1.0\n",
      "                  prefix = 'ros'          female : male   =     16.5 : 1.0\n",
      "                  prefix = 'rod'            male : female =     16.1 : 1.0\n",
      "                  suffix = 'ita'          female : male   =     14.5 : 1.0\n",
      "                  prefix = 'dor'          female : male   =     14.3 : 1.0\n",
      "                  prefix = 'tha'            male : female =     14.0 : 1.0\n",
      "            final_vowels = 'ea'           female : male   =     14.0 : 1.0\n",
      "                  suffix = 'dra'          female : male   =     13.4 : 1.0\n",
      "                  suffix = 'ene'          female : male   =     13.2 : 1.0\n",
      "                  suffix = 'ria'          female : male   =     13.0 : 1.0\n"
     ]
    }
   ],
   "source": [
    "classifier.show_most_informative_features(20)"
   ]
  },
  {
   "cell_type": "code",
   "execution_count": 9,
   "metadata": {},
   "outputs": [],
   "source": [
    "train_names = names[1500:]\n",
    "devtest_names = names[500:1500]\n",
    "test_names = names[:500]"
   ]
  },
  {
   "cell_type": "code",
   "execution_count": 10,
   "metadata": {},
   "outputs": [
    {
     "name": "stdout",
     "output_type": "stream",
     "text": [
      "0.826\n"
     ]
    }
   ],
   "source": [
    "train_set = [(gender_features2(n), g) for (n,g) in train_names]\n",
    "devtest_set = [(gender_features2(n), g) for (n,g) in devtest_names]\n",
    "test_set = [(gender_features2(n), g) for (n,g) in test_names]\n",
    "classifier = nltk.NaiveBayesClassifier.train(train_set)\n",
    "print(nltk.classify.accuracy(classifier, devtest_set))"
   ]
  },
  {
   "cell_type": "code",
   "execution_count": 11,
   "metadata": {},
   "outputs": [],
   "source": [
    "errors = []\n",
    "for (name, tag) in devtest_names:\n",
    "    guess = classifier.classify(gender_features2(name))\n",
    "    if guess != tag:\n",
    "        errors.append( (tag, guess, name) )"
   ]
  },
  {
   "cell_type": "code",
   "execution_count": 12,
   "metadata": {},
   "outputs": [
    {
     "name": "stdout",
     "output_type": "stream",
     "text": [
      "Total errors: 174\n",
      "correct=female   guess=male     name=Adore                length=5       \n",
      "correct=female   guess=male     name=Amargo               length=6       \n",
      "correct=female   guess=male     name=Audy                 length=4       \n",
      "correct=female   guess=male     name=Barbey               length=6       \n",
      "correct=female   guess=male     name=Birgit               length=6       \n",
      "correct=female   guess=male     name=Blake                length=5       \n",
      "correct=female   guess=male     name=Blondell             length=8       \n",
      "correct=female   guess=male     name=Brett                length=5       \n",
      "correct=female   guess=male     name=Calypso              length=7       \n",
      "correct=female   guess=male     name=Chloris              length=7       \n",
      "correct=female   guess=male     name=Christen             length=8       \n",
      "correct=female   guess=male     name=Corey                length=5       \n",
      "correct=female   guess=male     name=Courtenay            length=9       \n",
      "correct=female   guess=male     name=Courtney             length=8       \n",
      "correct=female   guess=male     name=Daffy                length=5       \n",
      "correct=female   guess=male     name=Darby                length=5       \n",
      "correct=female   guess=male     name=Deb                  length=3       \n",
      "correct=female   guess=male     name=Dido                 length=4       \n",
      "correct=female   guess=male     name=Dominique            length=9       \n",
      "correct=female   guess=male     name=Doris                length=5       \n",
      "correct=female   guess=male     name=Doro                 length=4       \n",
      "correct=female   guess=male     name=Dory                 length=4       \n",
      "correct=female   guess=male     name=Dotty                length=5       \n",
      "correct=female   guess=male     name=Edin                 length=4       \n",
      "correct=female   guess=male     name=Em                   length=2       \n",
      "correct=female   guess=male     name=Emmey                length=5       \n",
      "correct=female   guess=male     name=Enid                 length=4       \n",
      "correct=female   guess=male     name=Erin                 length=4       \n",
      "correct=female   guess=male     name=Evy                  length=3       \n",
      "correct=female   guess=male     name=Fanchon              length=7       \n",
      "correct=female   guess=male     name=Farrand              length=7       \n",
      "correct=female   guess=male     name=Floris               length=6       \n",
      "correct=female   guess=male     name=Fran                 length=4       \n",
      "correct=female   guess=male     name=Frances              length=7       \n",
      "correct=female   guess=male     name=Glory                length=5       \n",
      "correct=female   guess=male     name=Glynis               length=6       \n",
      "correct=female   guess=male     name=Gray                 length=4       \n",
      "correct=female   guess=male     name=Grissel              length=7       \n",
      "correct=female   guess=male     name=Gustie               length=6       \n",
      "correct=female   guess=male     name=Hedvig               length=6       \n",
      "correct=female   guess=male     name=Hetty                length=5       \n",
      "correct=female   guess=male     name=Hildegaard           length=10      \n",
      "correct=female   guess=male     name=Hope                 length=4       \n",
      "correct=female   guess=male     name=Hortense             length=8       \n",
      "correct=female   guess=male     name=Ines                 length=4       \n",
      "correct=female   guess=male     name=Ingaborg             length=8       \n",
      "correct=female   guess=male     name=Isador               length=6       \n",
      "correct=female   guess=male     name=Ivie                 length=4       \n",
      "correct=female   guess=male     name=Jordain              length=7       \n",
      "correct=female   guess=male     name=Jorry                length=5       \n",
      "correct=female   guess=male     name=Jude                 length=4       \n",
      "correct=female   guess=male     name=Kaster               length=6       \n",
      "correct=female   guess=male     name=Kip                  length=3       \n",
      "correct=female   guess=male     name=Konstance            length=9       \n",
      "correct=female   guess=male     name=Kyrstin              length=7       \n",
      "correct=female   guess=male     name=Lust                 length=4       \n",
      "correct=female   guess=male     name=Maryrose             length=8       \n",
      "correct=female   guess=male     name=Maud                 length=4       \n",
      "correct=female   guess=male     name=Mikako               length=6       \n",
      "correct=female   guess=male     name=Muriel               length=6       \n",
      "correct=female   guess=male     name=Nert                 length=4       \n",
      "correct=female   guess=male     name=Nitin                length=5       \n",
      "correct=female   guess=male     name=Phebe                length=5       \n",
      "correct=female   guess=male     name=Philly               length=6       \n",
      "correct=female   guess=male     name=Phylis               length=6       \n",
      "correct=female   guess=male     name=Pris                 length=4       \n",
      "correct=female   guess=male     name=Prudence             length=8       \n",
      "correct=female   guess=male     name=Prudy                length=5       \n",
      "correct=female   guess=male     name=Raf                  length=3       \n",
      "correct=female   guess=male     name=Raye                 length=4       \n",
      "correct=female   guess=male     name=Renel                length=5       \n",
      "correct=female   guess=male     name=Roobbie              length=7       \n",
      "correct=female   guess=male     name=Rosario              length=7       \n",
      "correct=female   guess=male     name=Rosy                 length=4       \n",
      "correct=female   guess=male     name=Roxy                 length=4       \n",
      "correct=female   guess=male     name=Rozamond             length=8       \n",
      "correct=female   guess=male     name=Scotty               length=6       \n",
      "correct=female   guess=male     name=Shawn                length=5       \n",
      "correct=female   guess=male     name=Sheelagh             length=8       \n",
      "correct=female   guess=male     name=Shelagh              length=7       \n",
      "correct=female   guess=male     name=Sher                 length=4       \n",
      "correct=female   guess=male     name=Solange              length=7       \n",
      "correct=female   guess=male     name=Sophi                length=5       \n",
      "correct=female   guess=male     name=Stace                length=5       \n",
      "correct=female   guess=male     name=Stacy                length=5       \n",
      "correct=female   guess=male     name=Starr                length=5       \n",
      "correct=female   guess=male     name=Tatum                length=5       \n",
      "correct=female   guess=male     name=Ted                  length=3       \n",
      "correct=female   guess=male     name=Tony                 length=4       \n",
      "correct=female   guess=male     name=Tracey               length=6       \n",
      "correct=female   guess=male     name=Trish                length=5       \n",
      "correct=female   guess=male     name=Trudy                length=5       \n",
      "correct=female   guess=male     name=Ursa                 length=4       \n",
      "correct=female   guess=male     name=Virginie             length=8       \n",
      "correct=female   guess=male     name=Wallis               length=6       \n",
      "correct=female   guess=male     name=Winifred             length=8       \n",
      "correct=female   guess=male     name=Wynn                 length=4       \n",
      "correct=female   guess=male     name=Yoko                 length=4       \n",
      "correct=male     guess=female   name=Abby                 length=4       \n",
      "correct=male     guess=female   name=Alastair             length=8       \n",
      "correct=male     guess=female   name=Alexis               length=6       \n",
      "correct=male     guess=female   name=Alix                 length=4       \n",
      "correct=male     guess=female   name=Alvin                length=5       \n",
      "correct=male     guess=female   name=Anatole              length=7       \n",
      "correct=male     guess=female   name=Andre                length=5       \n",
      "correct=male     guess=female   name=Angie                length=5       \n",
      "correct=male     guess=female   name=Antoni               length=6       \n",
      "correct=male     guess=female   name=Antonin              length=7       \n",
      "correct=male     guess=female   name=Ari                  length=3       \n",
      "correct=male     guess=female   name=Arnie                length=5       \n",
      "correct=male     guess=female   name=Augustine            length=9       \n",
      "correct=male     guess=female   name=Barnabe              length=7       \n",
      "correct=male     guess=female   name=Brian                length=5       \n",
      "correct=male     guess=female   name=Brice                length=5       \n",
      "correct=male     guess=female   name=Britt                length=5       \n",
      "correct=male     guess=female   name=Bryan                length=5       \n",
      "correct=male     guess=female   name=Carleigh             length=8       \n",
      "correct=male     guess=female   name=Carlyle              length=7       \n",
      "correct=male     guess=female   name=Carmine              length=7       \n",
      "correct=male     guess=female   name=Caryl                length=5       \n",
      "correct=male     guess=female   name=Case                 length=4       \n",
      "correct=male     guess=female   name=Clay                 length=4       \n",
      "correct=male     guess=female   name=Collin               length=6       \n",
      "correct=male     guess=female   name=Corrie               length=6       \n",
      "correct=male     guess=female   name=Damian               length=6       \n",
      "correct=male     guess=female   name=Daniel               length=6       \n",
      "correct=male     guess=female   name=Darien               length=6       \n",
      "correct=male     guess=female   name=Darin                length=5       \n",
      "correct=male     guess=female   name=Daryl                length=5       \n",
      "correct=male     guess=female   name=Dwaine               length=6       \n",
      "correct=male     guess=female   name=Eli                  length=3       \n",
      "correct=male     guess=female   name=Emmy                 length=4       \n",
      "correct=male     guess=female   name=Ezekiel              length=7       \n",
      "correct=male     guess=female   name=Gail                 length=4       \n",
      "correct=male     guess=female   name=Haleigh              length=7       \n",
      "correct=male     guess=female   name=Jacob                length=5       \n",
      "correct=male     guess=female   name=Jaime                length=5       \n",
      "correct=male     guess=female   name=Jerri                length=5       \n",
      "correct=male     guess=female   name=Jodie                length=5       \n",
      "correct=male     guess=female   name=Karim                length=5       \n",
      "correct=male     guess=female   name=Karl                 length=4       \n",
      "correct=male     guess=female   name=Keil                 length=4       \n",
      "correct=male     guess=female   name=Kingsly              length=7       \n",
      "correct=male     guess=female   name=Laurens              length=7       \n",
      "correct=male     guess=female   name=Lennie               length=6       \n",
      "correct=male     guess=female   name=Luce                 length=4       \n",
      "correct=male     guess=female   name=Luis                 length=4       \n",
      "correct=male     guess=female   name=Lyle                 length=4       \n",
      "correct=male     guess=female   name=Mace                 length=4       \n",
      "correct=male     guess=female   name=Marcel               length=6       \n",
      "correct=male     guess=female   name=Marshal              length=7       \n",
      "correct=male     guess=female   name=Marve                length=5       \n",
      "correct=male     guess=female   name=Maurice              length=7       \n",
      "correct=male     guess=female   name=Michail              length=7       \n",
      "correct=male     guess=female   name=Moise                length=5       \n",
      "correct=male     guess=female   name=Nathanil             length=8       \n",
      "correct=male     guess=female   name=Neel                 length=4       \n",
      "correct=male     guess=female   name=Nelsen               length=6       \n",
      "correct=male     guess=female   name=Nikolai              length=7       \n",
      "correct=male     guess=female   name=Ossie                length=5       \n",
      "correct=male     guess=female   name=Patrice              length=7       \n",
      "correct=male     guess=female   name=Radcliffe            length=9       \n",
      "correct=male     guess=female   name=Ravi                 length=4       \n",
      "correct=male     guess=female   name=Robbie               length=6       \n",
      "correct=male     guess=female   name=Roni                 length=4       \n",
      "correct=male     guess=female   name=Shane                length=5       \n",
      "correct=male     guess=female   name=Slade                length=5       \n",
      "correct=male     guess=female   name=Stanley              length=7       \n",
      "correct=male     guess=female   name=Tabbie               length=6       \n",
      "correct=male     guess=female   name=Tanney               length=6       \n",
      "correct=male     guess=female   name=Tate                 length=4       \n",
      "correct=male     guess=female   name=Terrance             length=8       \n",
      "correct=male     guess=female   name=Vijay                length=5       \n",
      "correct=male     guess=female   name=Vite                 length=4       \n"
     ]
    }
   ],
   "source": [
    "print(\"Total errors: %d\" % (len(errors)))\n",
    "for (tag, guess, name) in sorted(errors):\n",
    "    print('correct=%-8s guess=%-8s name=%-20s length=%-8s' % (tag, guess, name, len(name)))"
   ]
  },
  {
   "cell_type": "code",
   "execution_count": null,
   "metadata": {},
   "outputs": [],
   "source": [
    "def syllables(word):\n",
    "    to_return = []\n",
    "    consonants = list(\"bcdfghjklmnpqrstvwxz\")\n",
    "    vowels = list(\"aeiou\")\n",
    "    current_word = word.lower()\n",
    "    while True:\n",
    "        if current_word == \"\":\n",
    "            break\n",
    "        if current_word[0] in vowels:\n",
    "            if current_word[1:3] == \"we\":\n",
    "                to_return.append(current_word[:3])\n",
    "                current_word = current_word[3:]\n",
    "            else:\n",
    "                if current_word[1] in consonants:\n",
    "                    to_return.append(current_word[:2])\n",
    "                    current_word = current_word[2:]\n",
    "                elif current_word[2] in consonants:\n",
    "                    to_return.append(current_word[:3])\n",
    "                    current_word = current_word[3:]\n",
    "        else:\n",
    "            vowel_index = 0\n",
    "            for vowel in vowels:\n",
    "                if vowel in current_word[:5]:\n",
    "                    vowel_index = current_word.index(vowel)\n",
    "    return(vowel_locs)"
   ]
  }
 ],
 "metadata": {
  "kernelspec": {
   "display_name": "Python 3",
   "language": "python",
   "name": "python3"
  },
  "language_info": {
   "codemirror_mode": {
    "name": "ipython",
    "version": 3
   },
   "file_extension": ".py",
   "mimetype": "text/x-python",
   "name": "python",
   "nbconvert_exporter": "python",
   "pygments_lexer": "ipython3",
   "version": "3.6.5"
  }
 },
 "nbformat": 4,
 "nbformat_minor": 2
}
